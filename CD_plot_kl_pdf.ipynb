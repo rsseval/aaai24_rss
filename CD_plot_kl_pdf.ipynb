{
 "cells": [
  {
   "cell_type": "code",
   "execution_count": 1,
   "id": "197252ce",
   "metadata": {},
   "outputs": [],
   "source": [
    "import pandas as pd\n",
    "from critdd import Diagram"
   ]
  },
  {
   "cell_type": "code",
   "execution_count": 2,
   "id": "9065e9c2",
   "metadata": {},
   "outputs": [
    {
     "data": {
      "text/html": [
       "<div>\n",
       "<style scoped>\n",
       "    .dataframe tbody tr th:only-of-type {\n",
       "        vertical-align: middle;\n",
       "    }\n",
       "\n",
       "    .dataframe tbody tr th {\n",
       "        vertical-align: top;\n",
       "    }\n",
       "\n",
       "    .dataframe thead th {\n",
       "        text-align: right;\n",
       "    }\n",
       "</style>\n",
       "<table border=\"1\" class=\"dataframe\">\n",
       "  <thead>\n",
       "    <tr style=\"text-align: right;\">\n",
       "      <th></th>\n",
       "      <th>ds</th>\n",
       "      <th>Sampling</th>\n",
       "      <th>R2</th>\n",
       "    </tr>\n",
       "  </thead>\n",
       "  <tbody>\n",
       "    <tr>\n",
       "      <th>0</th>\n",
       "      <td>1</td>\n",
       "      <td>KL, $\\beta=0$</td>\n",
       "      <td>0.987327</td>\n",
       "    </tr>\n",
       "    <tr>\n",
       "      <th>2</th>\n",
       "      <td>1</td>\n",
       "      <td>KL, $\\beta=0$</td>\n",
       "      <td>0.983852</td>\n",
       "    </tr>\n",
       "    <tr>\n",
       "      <th>4</th>\n",
       "      <td>1</td>\n",
       "      <td>KL, $\\beta=0$</td>\n",
       "      <td>0.980982</td>\n",
       "    </tr>\n",
       "    <tr>\n",
       "      <th>0</th>\n",
       "      <td>1</td>\n",
       "      <td>KL, $\\beta=0$</td>\n",
       "      <td>0.987635</td>\n",
       "    </tr>\n",
       "    <tr>\n",
       "      <th>2</th>\n",
       "      <td>1</td>\n",
       "      <td>KL, $\\beta=0$</td>\n",
       "      <td>0.987635</td>\n",
       "    </tr>\n",
       "    <tr>\n",
       "      <th>...</th>\n",
       "      <td>...</td>\n",
       "      <td>...</td>\n",
       "      <td>...</td>\n",
       "    </tr>\n",
       "    <tr>\n",
       "      <th>2</th>\n",
       "      <td>14</td>\n",
       "      <td>PDF Energy, $\\beta=100$</td>\n",
       "      <td>0.559615</td>\n",
       "    </tr>\n",
       "    <tr>\n",
       "      <th>4</th>\n",
       "      <td>14</td>\n",
       "      <td>PDF Energy, $\\beta=100$</td>\n",
       "      <td>0.556914</td>\n",
       "    </tr>\n",
       "    <tr>\n",
       "      <th>0</th>\n",
       "      <td>14</td>\n",
       "      <td>PDF Energy, $\\beta=100$</td>\n",
       "      <td>0.466312</td>\n",
       "    </tr>\n",
       "    <tr>\n",
       "      <th>2</th>\n",
       "      <td>14</td>\n",
       "      <td>PDF Energy, $\\beta=100$</td>\n",
       "      <td>0.484002</td>\n",
       "    </tr>\n",
       "    <tr>\n",
       "      <th>4</th>\n",
       "      <td>14</td>\n",
       "      <td>PDF Energy, $\\beta=100$</td>\n",
       "      <td>0.483727</td>\n",
       "    </tr>\n",
       "  </tbody>\n",
       "</table>\n",
       "<p>756 rows × 3 columns</p>\n",
       "</div>"
      ],
      "text/plain": [
       "    ds                 Sampling        R2\n",
       "0    1            KL, $\\beta=0$  0.987327\n",
       "2    1            KL, $\\beta=0$  0.983852\n",
       "4    1            KL, $\\beta=0$  0.980982\n",
       "0    1            KL, $\\beta=0$  0.987635\n",
       "2    1            KL, $\\beta=0$  0.987635\n",
       "..  ..                      ...       ...\n",
       "2   14  PDF Energy, $\\beta=100$  0.559615\n",
       "4   14  PDF Energy, $\\beta=100$  0.556914\n",
       "0   14  PDF Energy, $\\beta=100$  0.466312\n",
       "2   14  PDF Energy, $\\beta=100$  0.484002\n",
       "4   14  PDF Energy, $\\beta=100$  0.483727\n",
       "\n",
       "[756 rows x 3 columns]"
      ]
     },
     "execution_count": 2,
     "metadata": {},
     "output_type": "execute_result"
    }
   ],
   "source": [
    "df = pd.read_pickle('all_cd_data.pickle')\n",
    "df"
   ]
  },
  {
   "cell_type": "code",
   "execution_count": 3,
   "id": "53eba978",
   "metadata": {},
   "outputs": [
    {
     "data": {
      "text/plain": [
       "Index(['KL, $\\beta=0$', 'KL, $\\beta=10$', 'KL, $\\beta=100$',\n",
       "       'PDF Energy, $\\beta=0$', 'PDF Energy, $\\beta=10$',\n",
       "       'PDF Energy, $\\beta=100$'],\n",
       "      dtype='object', name='Sampling')"
      ]
     },
     "execution_count": 3,
     "metadata": {},
     "output_type": "execute_result"
    }
   ],
   "source": [
    "df_pivot = df.pivot_table(\n",
    "    index = \"ds\",\n",
    "    columns = \"Sampling\",\n",
    "    values = 'R2'\n",
    ")\n",
    "df_pivot = df_pivot.loc[:,~df_pivot.apply(lambda x: x.duplicated(),axis=1).all()].copy()\n",
    "df_pivot.columns"
   ]
  },
  {
   "cell_type": "code",
   "execution_count": 4,
   "id": "145bd5f6",
   "metadata": {},
   "outputs": [
    {
     "name": "stderr",
     "output_type": "stream",
     "text": [
      "/Users/mbahrami/anaconda3/lib/python3.10/site-packages/scipy/stats/_morestats.py:3414: UserWarning: Exact p-value calculation does not work if there are zeros. Switching to normal approximation.\n",
      "  warnings.warn(\"Exact p-value calculation does not work if there are \"\n"
     ]
    }
   ],
   "source": [
    "# create a CD diagram from the Pandas DataFrame\n",
    "diagram = Diagram(\n",
    "    df_pivot.to_numpy(),\n",
    "    treatment_names = df_pivot.columns,\n",
    "    maximize_outcome = True\n",
    ")\n",
    "\n",
    "# inspect average ranks and groups of statistically indistinguishable treatments\n",
    "diagram.average_ranks # the average rank of each treatment\n",
    "diagram.get_groups(alpha=.05, adjustment=\"holm\")\n",
    "\n",
    "# export the diagram to a file\n",
    "diagram.to_file(\n",
    "    \"example.tex\",\n",
    "    alpha = .05,\n",
    "    adjustment = \"holm\",\n",
    "    reverse_x = True,\n",
    "    axis_options = {\"title\": \"Critical Difference (CD) Plot\"},\n",
    ")"
   ]
  },
  {
   "cell_type": "code",
   "execution_count": 5,
   "id": "40eb4000",
   "metadata": {},
   "outputs": [
    {
     "name": "stdout",
     "output_type": "stream",
     "text": [
      "\\begin{tikzpicture}[\n",
      "  treatment line/.style={rounded corners=1.5pt, line cap=round, shorten >=1pt},\n",
      "  treatment label/.style={font=\\small},\n",
      "  group line/.style={ultra thick},\n",
      "]\n",
      "\n",
      "\\begin{axis}[\n",
      "  clip={false},\n",
      "  axis x line={center},\n",
      "  axis y line={none},\n",
      "  axis line style={-},\n",
      "  xmin={1},\n",
      "  ymax={0},\n",
      "  scale only axis={true},\n",
      "  width={\\axisdefaultwidth},\n",
      "  ticklabel style={anchor=south, yshift=1.3*\\pgfkeysvalueof{/pgfplots/major tick length}, font=\\small},\n",
      "  every tick/.style={draw=black},\n",
      "  major tick style={yshift=.5*\\pgfkeysvalueof{/pgfplots/major tick length}},\n",
      "  minor tick style={yshift=.5*\\pgfkeysvalueof{/pgfplots/minor tick length}},\n",
      "  title style={yshift=\\baselineskip},\n",
      "  xmax={6},\n",
      "  ymin={-4.5},\n",
      "  height={5\\baselineskip},\n",
      "  xtick={1,2,3,4,5,6},\n",
      "  minor x tick num={3},\n",
      "  x dir={reverse},\n",
      "  title={Critical Difference (CD) Plot},\n",
      "]\n",
      "\n",
      "\\draw[treatment line] ([yshift=-2pt] axis cs:1.9285714285714286, 0) |- (axis cs:1.4285714285714286, -2.0)\n",
      "  node[treatment label, anchor=west] {PDF Energy, $\\beta=100$};\n",
      "\\draw[treatment line] ([yshift=-2pt] axis cs:2.1785714285714284, 0) |- (axis cs:1.4285714285714286, -3.0)\n",
      "  node[treatment label, anchor=west] {PDF Energy, $\\beta=10$};\n",
      "\\draw[treatment line] ([yshift=-2pt] axis cs:2.8214285714285716, 0) |- (axis cs:1.4285714285714286, -4.0)\n",
      "  node[treatment label, anchor=west] {PDF Energy, $\\beta=0$};\n",
      "\\draw[treatment line] ([yshift=-2pt] axis cs:4.214285714285714, 0) |- (axis cs:5.642857142857143, -4.0)\n",
      "  node[treatment label, anchor=east] {KL, $\\beta=0$};\n",
      "\\draw[treatment line] ([yshift=-2pt] axis cs:4.714285714285714, 0) |- (axis cs:5.642857142857143, -3.0)\n",
      "  node[treatment label, anchor=east] {KL, $\\beta=100$};\n",
      "\\draw[treatment line] ([yshift=-2pt] axis cs:5.142857142857143, 0) |- (axis cs:5.642857142857143, -2.0)\n",
      "  node[treatment label, anchor=east] {KL, $\\beta=10$};\n",
      "\\draw[group line] (axis cs:2.1785714285714284, -1.3333333333333333) -- (axis cs:5.142857142857143, -1.3333333333333333);\n",
      "\\draw[group line] (axis cs:1.9285714285714286, -1.5333333333333332) -- (axis cs:2.8214285714285716, -1.5333333333333332);\n",
      "\n",
      "\\end{axis}\n",
      "\\end{tikzpicture}\n"
     ]
    }
   ],
   "source": [
    "print(open('example.tex').read())"
   ]
  },
  {
   "cell_type": "code",
   "execution_count": null,
   "id": "8f35414d",
   "metadata": {},
   "outputs": [],
   "source": []
  }
 ],
 "metadata": {
  "kernelspec": {
   "display_name": "Python 3 (ipykernel)",
   "language": "python",
   "name": "python3"
  },
  "language_info": {
   "codemirror_mode": {
    "name": "ipython",
    "version": 3
   },
   "file_extension": ".py",
   "mimetype": "text/x-python",
   "name": "python",
   "nbconvert_exporter": "python",
   "pygments_lexer": "ipython3",
   "version": "3.10.9"
  }
 },
 "nbformat": 4,
 "nbformat_minor": 5
}
